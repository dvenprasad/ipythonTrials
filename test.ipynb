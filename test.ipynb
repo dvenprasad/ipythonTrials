from matplotlib.pyplot import *
x = linspace(0, 3*pi, 500)
plot(x, sin(x**2))
title("A simple graph")
